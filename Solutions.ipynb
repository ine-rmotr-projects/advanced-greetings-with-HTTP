{
 "cells": [
  {
   "cell_type": "markdown",
   "metadata": {},
   "source": [
    "![ine-divider](https://user-images.githubusercontent.com/7065401/92672068-398e8080-f2ee-11ea-82d6-ad53f7feb5c0.png)\n",
    "<hr>\n",
    "\n",
    "### HTTP using Python\n",
    "\n",
    "# Advanced greetings with HTTP\n",
    "\n",
    "In this exercise, you will need to construct a function that communicates with a locally running server.  This repeats the earlier exercise where you were asked to construct this interaction using the low level `telnetlib`.  In particular, you will connect to port 2552 on `localhost`, and to the resource path `/stream` that may be queried with a GET method.  \n",
    "\n",
    "As in the example shown in the lesson, data will arrive relatively slowly as lines; but in the server running for this exercise, it will continue infinitely.  You wish to terminate the session from the client side after a greeting longer than 20 characters is encountered. This will take a variable number of lines, since the greetings are randomized. Moreover, your function should itself be a generator function that will basically proxy the server's response.\n",
    "\n",
    "You will write three solutions to this exercise.  All will behave the same, but one should use `http.server`, another `urllib.request`, and the final one `requests`.\n",
    "\n",
    "A correct implementation of the function will behave like this (but with various greeting lines of similar format):\n",
    "\n",
    "```python\n",
    ">>> for data in short_greetings_VERSION():\n",
    "...     print(data)\n",
    "\n",
    "(18, 'Zdravstvuyte Mary!')\n",
    "(13, 'Hej Jennifer!')\n",
    "(18, 'Zdravstvuyte Mary!')\n",
    "(13, 'Namaste Mary!')\n",
    "(16, 'Hujambo Michael!')\n",
    "(13, 'Hoi Jennifer!')\n",
    "(15, 'Nǐ hǎo Michael!')\n",
    "(13, 'Halløj Nancy!')\n",
    "(21, 'Shikamoo Christopher!')\n",
    "```\n",
    "\n",
    "![orange-divider](https://user-images.githubusercontent.com/7065401/92672455-187a5f80-f2ef-11ea-890c-40be9474f7b7.png)"
   ]
  },
  {
   "cell_type": "markdown",
   "metadata": {},
   "source": [
    "## Initial code"
   ]
  },
  {
   "cell_type": "code",
   "execution_count": 1,
   "metadata": {},
   "outputs": [],
   "source": [
    "import http\n",
    "import urllib\n",
    "import requests\n",
    "\n",
    "from exercise_server import start\n",
    "start()"
   ]
  },
  {
   "cell_type": "code",
   "execution_count": 2,
   "metadata": {},
   "outputs": [],
   "source": [
    "def short_greetings_http_client():\n",
    "    # http.server.somefunc(...)\n",
    "    path = '/stream'\n",
    "    for _ in range(10):\n",
    "        greeting = \"Hello David!\"\n",
    "        yield (len(greeting), greeting)\n",
    "    "
   ]
  },
  {
   "cell_type": "code",
   "execution_count": 3,
   "metadata": {},
   "outputs": [],
   "source": [
    "def short_greetings_urllib():\n",
    "    # urllib.request.somefunc(...)\n",
    "    path = '/stream'\n",
    "    for _ in range(10):\n",
    "        greeting = \"Hello David!\"\n",
    "        yield (len(greeting), greeting)"
   ]
  },
  {
   "cell_type": "code",
   "execution_count": 4,
   "metadata": {},
   "outputs": [],
   "source": [
    "def short_greetings_requests():\n",
    "    # requests.somefunc(...)\n",
    "    path = '/stream'\n",
    "    for _ in range(10):\n",
    "        greeting = \"Hello David!\"\n",
    "        yield (len(greeting), greeting)"
   ]
  },
  {
   "cell_type": "markdown",
   "metadata": {},
   "source": [
    "---\n",
    "## Solution"
   ]
  },
  {
   "cell_type": "code",
   "execution_count": 5,
   "metadata": {},
   "outputs": [],
   "source": [
    "def short_greetings_http_client():\n",
    "    conn = http.client.HTTPConnection('localhost', port=2552)\n",
    "    conn.request(\"GET\", \"/stream\")\n",
    "    resp = conn.getresponse()\n",
    "    greet = b''\n",
    "    while True:\n",
    "        b = resp.read(1)\n",
    "        greet += b\n",
    "        if b == b'!':\n",
    "            _greet = greet.decode()\n",
    "            yield (len(_greet), _greet)\n",
    "            if len(_greet) > 20:\n",
    "                break\n",
    "            greet = b''"
   ]
  },
  {
   "cell_type": "code",
   "execution_count": 6,
   "metadata": {},
   "outputs": [],
   "source": [
    "def short_greetings_urllib():\n",
    "    url = 'http://localhost:2552/stream'\n",
    "    with urllib.request.urlopen(url) as f:\n",
    "        greet = b''\n",
    "        while True:\n",
    "            b = f.read(1)\n",
    "            greet += b\n",
    "            if b == b'!':\n",
    "                _greet = greet.decode()\n",
    "                yield (len(_greet), _greet)\n",
    "                if len(_greet) > 20:\n",
    "                    break\n",
    "                greet = b''"
   ]
  },
  {
   "cell_type": "code",
   "execution_count": 7,
   "metadata": {},
   "outputs": [],
   "source": [
    "def short_greetings_requests():\n",
    "    with requests.get('http://localhost:2552/stream', stream=True) as respS:\n",
    "        for line in respS.iter_lines(chunk_size=1, decode_unicode=True, delimiter='!'):\n",
    "            if line:\n",
    "                yield (len(line), line)\n",
    "            if len(line) > 20:\n",
    "                break"
   ]
  },
  {
   "cell_type": "markdown",
   "metadata": {},
   "source": [
    "![orange-divider](https://user-images.githubusercontent.com/7065401/92672455-187a5f80-f2ef-11ea-890c-40be9474f7b7.png)\n",
    "## Test Cases\n",
    "\n",
    "Check your solution by running the following test cases:"
   ]
  },
  {
   "cell_type": "code",
   "execution_count": 8,
   "metadata": {},
   "outputs": [
    {
     "name": "stdout",
     "output_type": "stream",
     "text": [
      "Your solution is ok!\n"
     ]
    }
   ],
   "source": [
    "from itertools import product\n",
    "\n",
    "def test_greeting_http_client():\n",
    "    seen_long = False\n",
    "    for length, phrase in short_greetings_http_client():\n",
    "        assert len(phrase) == length, \"Length of phrase incorrect\"\n",
    "        if length > 20:\n",
    "            seen_long = True\n",
    "        else:\n",
    "            assert length <= 20 or not seen_long, \"Phrase neither short nor final\"\n",
    "    assert seen_long, \"No long greeting was encountered!\"\n",
    "    print(\"Your solution is ok!\")\n",
    "    \n",
    "    \n",
    "test_greeting_http_client()"
   ]
  },
  {
   "cell_type": "code",
   "execution_count": 9,
   "metadata": {},
   "outputs": [
    {
     "name": "stdout",
     "output_type": "stream",
     "text": [
      "Your solution is ok!\n"
     ]
    }
   ],
   "source": [
    "def test_greeting_urllib():\n",
    "    seen_long = False\n",
    "    for length, phrase in short_greetings_urllib():\n",
    "        assert len(phrase) == length, \"Length of phrase incorrect\"\n",
    "        if length > 20:\n",
    "            seen_long = True\n",
    "        else:\n",
    "            assert length <= 20 or not seen_long, \"Phrase neither short nor final\"\n",
    "    assert seen_long, \"No long greeting was encountered!\"\n",
    "    print(\"Your solution is ok!\")\n",
    "    \n",
    "    \n",
    "test_greeting_urllib()"
   ]
  },
  {
   "cell_type": "code",
   "execution_count": 10,
   "metadata": {},
   "outputs": [
    {
     "name": "stdout",
     "output_type": "stream",
     "text": [
      "Your solution is ok!\n"
     ]
    }
   ],
   "source": [
    "def test_greeting_requests():\n",
    "    seen_long = False\n",
    "    for length, phrase in short_greetings_requests():\n",
    "        assert len(phrase) == length, \"Length of phrase incorrect\"\n",
    "        if length > 20:\n",
    "            seen_long = True\n",
    "        else:\n",
    "            assert length <= 20 or not seen_long, \"Phrase neither short nor final\"\n",
    "    assert seen_long, \"No long greeting was encountered!\"\n",
    "    print(\"Your solution is ok!\")\n",
    "    \n",
    "    \n",
    "test_greeting_requests()"
   ]
  },
  {
   "cell_type": "markdown",
   "metadata": {},
   "source": [
    "![orange-divider](https://user-images.githubusercontent.com/7065401/92672455-187a5f80-f2ef-11ea-890c-40be9474f7b7.png)"
   ]
  }
 ],
 "metadata": {
  "kernelspec": {
   "display_name": "Python 3",
   "language": "python",
   "name": "python3"
  },
  "language_info": {
   "codemirror_mode": {
    "name": "ipython",
    "version": 3
   },
   "file_extension": ".py",
   "mimetype": "text/x-python",
   "name": "python",
   "nbconvert_exporter": "python",
   "pygments_lexer": "ipython3",
   "version": "3.8.6"
  }
 },
 "nbformat": 4,
 "nbformat_minor": 5
}
